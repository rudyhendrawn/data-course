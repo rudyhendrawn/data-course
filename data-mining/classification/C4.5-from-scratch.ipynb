{
 "cells": [
  {
   "cell_type": "code",
   "execution_count": null,
   "id": "3ed8561b",
   "metadata": {},
   "outputs": [],
   "source": [
    "import pandas as pd\n",
    "import numpy as np\n",
    "from math import log2"
   ]
  },
  {
   "cell_type": "markdown",
   "id": "2bca58e0",
   "metadata": {},
   "source": [
    "#### 1. Fungsi Entropy"
   ]
  },
  {
   "cell_type": "code",
   "execution_count": null,
   "id": "6f351521",
   "metadata": {},
   "outputs": [],
   "source": [
    "def entropy(target_col):\n",
    "\telements, counts = np.unique(target_col, return_counts=True)\n",
    "\tentropy_val = -np.sum([(counts[i] / np.sum(counts)) * log2(counts[i] / np.sum(counts)) for i in range(len(elements))])\n",
    "\treturn entropy_val"
   ]
  },
  {
   "cell_type": "markdown",
   "id": "ab687b58",
   "metadata": {},
   "source": [
    "- **Tujuan:** Menghitung entropi, yaitu ukuran ketidakpastian dalam data.\n",
    "- **Input:** Kolom target (label).\n",
    "- **Output:** Nilai entropi."
   ]
  },
  {
   "cell_type": "markdown",
   "id": "154d2a0b",
   "metadata": {},
   "source": [
    "#### 2. Fungsi Information Gain\n",
    "- **Tujuan:** Menghitung informasi gain, yaitu pengurangan ketidakpastian setelah membagi data berdasarkan atribut tertentu.\n",
    "- **Input:** Data, atribut pembagi, dan kolom target.\n",
    "- **Output:** Nilai informasi gain.\n",
    "- **Proses:**\n",
    "  - Hitung entropi awal.\n",
    "  - Hitung entropi setelah pembagian berdasarkan atribut.\n",
    "  - Hitung informasi gain sebagai selisih antara entropi awal dan entropi setelah pembagian.\n",
    "  "
   ]
  },
  {
   "cell_type": "code",
   "execution_count": null,
   "id": "fddb884b",
   "metadata": {},
   "outputs": [],
   "source": [
    "def info_gain(data, split_attribute_name, target_name):\n",
    "\ttotal_entropy = entropy(data[target_name])\n",
    "\n",
    "\t# Weights Entropy\n",
    "\tvals, counts = np.unique(data[split_attribute_name], return_counts=True)\n",
    "\tweighted_entropy = np.sum([\n",
    "\t\t(counts[i] / np.sum(counts)) * entropy(\n",
    "\t\t\tdata.where(data[split_attribute_name] == vals[i]).dropna()[target_name]\n",
    "\t\t) for i in range(len(vals))\n",
    "\t])\n",
    "\n",
    "\tinfo_gain_val = total_entropy - weighted_entropy\n",
    "\treturn info_gain_val"
   ]
  },
  {
   "cell_type": "markdown",
   "id": "b6735d02",
   "metadata": {},
   "source": [
    "#### 3. Fungsi Split Information Gain\n",
    "- **Tujuan:** Menghitung informasi split, yaitu ukuran distribusi data setelah pembagian berdasarkan atribut.\n",
    "- **Input:** Data dan atribut pembagi.\n",
    "- **Output:** Nilai informasi split (`si`).\n",
    "- **Proses:**\n",
    "  - Hitung entropi untuk setiap subset data berdasarkan atribut pembagi.\n",
    "  - Hitung informasi split sebagai rata-rata tertimbang dari entropi subset.\n",
    "  - Hitung nilai split information gain sebagai rasio antara informasi gain dan informasi split."
   ]
  },
  {
   "cell_type": "code",
   "execution_count": null,
   "id": "cbad7959",
   "metadata": {},
   "outputs": [],
   "source": [
    "def split_info(data, split_attribute_name):\n",
    "\tvals, counts = np.unique(data[split_attribute_name], return_counts=True)\n",
    "\tsi = -np.sum([(counts[i] / np.sum(counts)) * log2(counts[i] / np.sum(counts))\n",
    "\t\tfor i in range(len(vals))])\n",
    "\treturn si"
   ]
  },
  {
   "cell_type": "markdown",
   "id": "5c6da54a",
   "metadata": {},
   "source": [
    "#### 4. Fungsi Gain Ratio\n",
    "- **Tujuan:** Menghitung rasio informasi gain, yaitu ukuran efektivitas atribut dalam membagi data.\n",
    "- **Input:** Data, atribut pembagi, dan kolom target.\n",
    "- **Output:** Nilai rasio informasi gain.\n",
    "- **Proses:**\n",
    "  - Hitung informasi gain dan informasi split menggunakan fungsi sebelumnya.\n",
    "  - Hitung rasio informasi gain sebagai rasio antara informasi gain dan informasi split.\n",
    "  - Kembalikan nilai rasio informasi gain.\n",
    "- **Catatan:** Jika informasi split adalah nol, kembalikan nilai nol untuk menghindari pembagian dengan nol."
   ]
  },
  {
   "cell_type": "code",
   "execution_count": null,
   "id": "8aee5095",
   "metadata": {},
   "outputs": [],
   "source": [
    "def gain_ratio(data, split_attribute_name, target_name):\n",
    "\tig = info_gain(data, split_attribute_name, target_name)\n",
    "\tsi = split_info(data, split_attribute_name)\n",
    "\tif si == 0:\n",
    "\t\treturn 0\n",
    "\telse:\n",
    "\t\treturn ig / si"
   ]
  },
  {
   "cell_type": "markdown",
   "id": "81385fc3",
   "metadata": {},
   "source": [
    "#### Fungsi Rekursive dari C4.5\n",
    "- **Tujuan:** Membangun pohon keputusan menggunakan algoritma C4.5 secara rekursif.\n",
    "- **Input:** Data, kolom target, dan atribut yang tersisa.\n",
    "- **Output:** Pohon keputusan.\n",
    "- **Proses:**\n",
    "  - Jika semua data memiliki label yang sama, kembalikan label tersebut sebagai daun pohon.\n",
    "  - Jika tidak ada atribut tersisa, kembalikan label mayoritas dari data sebagai daun pohon.\n",
    "  - Hitung rasio informasi gain untuk setiap atribut.\n",
    "  - Pilih atribut dengan rasio informasi gain tertinggi sebagai atribut pembagi.\n",
    "  - Buat simpul pohon untuk atribut pembagi.\n",
    "  - Bagi data berdasarkan nilai atribut pembagi dan panggil fungsi rekursif untuk setiap subset data.\n",
    "  - Kembalikan pohon keputusan yang telah dibangun.\n",
    "- **Catatan:** Fungsi ini menggunakan struktur data `Node` untuk merepresentasikan simpul pohon keputusan."
   ]
  },
  {
   "cell_type": "code",
   "execution_count": null,
   "id": "864c0089",
   "metadata": {},
   "outputs": [],
   "source": [
    "def c45(data, original_data, features, target_attribute_name, parent_node_class=None):\n",
    "\t# Base conditions\n",
    "\tif len(np.unique(data[target_attribute_name])) <= 1:\n",
    "\t\treturn np.unique(data[target_attribute_name])[0]\n",
    "\telif len(data) == 0:\n",
    "\t\treturn np.unique(original_data[target_attribute_name])[\n",
    "\t\t\tnp.argmax(np.unique(original_data[target_attribute_name], return_counts=True)[1])\n",
    "\t\t]\n",
    "\telif len(features) == 0:\n",
    "\t\treturn parent_node_class\n",
    "\telse:\n",
    "\t\t# Kelas mayoritas pada node induk\n",
    "\t\tparent_node_class = np.unique(data[target_attribute_name])[\n",
    "\t\t\tnp.argmax(np.unique(data[target_attribute_name], return_counts=True)[1])\n",
    "\t\t]\n",
    "\n",
    "\t\t# Pilih atribut dengan Gain Ratio tertinggi\n",
    "\t\tgain_ratios = [gain_ratio(data, feature, target_attribute_name) for feature in features]\n",
    "\t\tbest_feature_index = np.argmax(gain_ratios)\n",
    "\t\tbest_feature = features[best_feature_index]\n",
    "\n",
    "\t\ttree = {best_feature: {}}\n",
    "\n",
    "\t\t# Nilai feature dan subtree\n",
    "\t\tfor value in np.unique(data[best_feature]):\n",
    "\t\t\tsub_data = data.where(data[best_feature] == value).dropna()\n",
    "\t\t\tsubtree = c45(\n",
    "\t\t\t\tsub_data,\n",
    "\t\t\t\toriginal_data,\n",
    "\t\t\t\t[feat for feat in features if feat != best_feature],\n",
    "\t\t\t\ttarget_attribute_name, \n",
    "\t\t\t\tparent_node_class\n",
    "\t\t\t)\n",
    "\t\t\ttree[best_feature][value] = subtree\n",
    "\n",
    "\t\treturn tree\n",
    "\n",
    "# Fungsi untuk memprediksi kelas\n",
    "def predict(query, tree):\n",
    "\tfor attribute in query:\n",
    "\t\tif attribute in tree:\n",
    "\t\t\ttry:\n",
    "\t\t\t\tresult = tree[attribute][query[attribute]]\n",
    "\t\t\texcept KeyError:\n",
    "\t\t\t\treturn \"Unknown\"\n",
    "\t\t\t\n",
    "\t\t\tif isinstance(result, dict):\n",
    "\t\t\t\treturn predict(query, result)\n",
    "\t\t\telse:\n",
    "\t\t\t\treturn result"
   ]
  },
  {
   "cell_type": "markdown",
   "id": "1b5aa0b2",
   "metadata": {},
   "source": [
    "### Contoh Implementasi"
   ]
  },
  {
   "cell_type": "code",
   "execution_count": null,
   "id": "2ac3b580",
   "metadata": {},
   "outputs": [],
   "source": [
    "# Contoh data\n",
    "data = {\n",
    "\t'Outlook': ['Sunny', 'Sunny', 'Overcast', 'Rain', 'Rain', 'Rain', 'Overcast', 'Sunny', 'Sunny', 'Rain', 'Sunny', 'Overcast', 'Overcast', 'Rain'],\n",
    "\t'Temperature': ['Hot', 'Hot', 'Hot', 'Mild', 'Cool', 'Cool', 'Cool', 'Mild', 'Cool', 'Mild', 'Mild', 'Mild', 'Hot', 'Mild'],\n",
    "\t'Humidity': ['High', 'High', 'High', 'High', 'Normal', 'Normal', 'Normal', 'High', 'Normal', 'Normal', 'Normal', 'High', 'Normal', 'High'],\n",
    "\t'Wind': ['Weak', 'Strong', 'Weak', 'Weak', 'Weak', 'Strong', 'Strong', 'Weak', 'Weak', 'Weak', 'Strong', 'Strong', 'Weak', 'Strong'],\n",
    "\t'PlayTennis': ['No', 'No', 'Yes', 'Yes', 'Yes', 'No', 'Yes', 'No', 'Yes', 'Yes', 'Yes', 'Yes', 'Yes', 'No']\n",
    "}\n",
    "\n",
    "df = pd.DataFrame(data)\n",
    "df"
   ]
  },
  {
   "cell_type": "code",
   "execution_count": null,
   "id": "72034ee9",
   "metadata": {},
   "outputs": [],
   "source": [
    "# Panggil fungsi C4.5\n",
    "tree = c45(\n",
    "\tdf,\n",
    "\tdf,\n",
    "\tdf.columns[:-1].tolist(),\n",
    "\t'PlayTennis'\n",
    ")\n",
    "print(\"Decision Tree:\")\n",
    "print(tree)"
   ]
  },
  {
   "cell_type": "code",
   "execution_count": null,
   "id": "eecc9db3",
   "metadata": {},
   "outputs": [],
   "source": [
    "# Prediksi dengan contoh data\n",
    "query = {'Outlook': 'Sunny', 'Temperature': 'Cool', 'Humidity': 'High', 'Wind': 'Strong'}\n",
    "predicted_class = predict(query, tree)\n",
    "print(\"\\nPredicted class for query:\")\n",
    "print(query)\n",
    "print(\"Predicted class: {}\".format(predicted_class))"
   ]
  },
  {
   "cell_type": "code",
   "execution_count": null,
   "id": "fdfbb2f9",
   "metadata": {},
   "outputs": [],
   "source": []
  }
 ],
 "metadata": {
  "kernelspec": {
   "display_name": "data-analytics",
   "language": "python",
   "name": "python3"
  },
  "language_info": {
   "codemirror_mode": {
    "name": "ipython",
    "version": 3
   },
   "file_extension": ".py",
   "mimetype": "text/x-python",
   "name": "python",
   "nbconvert_exporter": "python",
   "pygments_lexer": "ipython3",
   "version": "3.9.13"
  }
 },
 "nbformat": 4,
 "nbformat_minor": 5
}

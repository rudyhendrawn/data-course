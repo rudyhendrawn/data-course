{
 "cells": [
  {
   "cell_type": "code",
   "execution_count": 12,
   "id": "083fa4f3",
   "metadata": {},
   "outputs": [],
   "source": [
    "import pandas as pd\n",
    "import seaborn as sns"
   ]
  },
  {
   "cell_type": "code",
   "execution_count": 13,
   "id": "f2ca876e",
   "metadata": {},
   "outputs": [
    {
     "data": {
      "application/vnd.microsoft.datawrangler.viewer.v0+json": {
       "columns": [
        {
         "name": "index",
         "rawType": "int64",
         "type": "integer"
        },
        {
         "name": "Suburb",
         "rawType": "object",
         "type": "string"
        },
        {
         "name": "Address",
         "rawType": "object",
         "type": "string"
        },
        {
         "name": "Rooms",
         "rawType": "int64",
         "type": "integer"
        },
        {
         "name": "Type",
         "rawType": "object",
         "type": "string"
        },
        {
         "name": "Price",
         "rawType": "float64",
         "type": "float"
        },
        {
         "name": "Method",
         "rawType": "object",
         "type": "string"
        },
        {
         "name": "SellerG",
         "rawType": "object",
         "type": "string"
        },
        {
         "name": "Date",
         "rawType": "object",
         "type": "string"
        },
        {
         "name": "Distance",
         "rawType": "float64",
         "type": "float"
        },
        {
         "name": "Postcode",
         "rawType": "float64",
         "type": "float"
        },
        {
         "name": "Bedroom2",
         "rawType": "float64",
         "type": "float"
        },
        {
         "name": "Bathroom",
         "rawType": "float64",
         "type": "float"
        },
        {
         "name": "Car",
         "rawType": "float64",
         "type": "float"
        },
        {
         "name": "Landsize",
         "rawType": "float64",
         "type": "float"
        },
        {
         "name": "BuildingArea",
         "rawType": "float64",
         "type": "float"
        },
        {
         "name": "YearBuilt",
         "rawType": "float64",
         "type": "float"
        },
        {
         "name": "CouncilArea",
         "rawType": "object",
         "type": "string"
        },
        {
         "name": "Lattitude",
         "rawType": "float64",
         "type": "float"
        },
        {
         "name": "Longtitude",
         "rawType": "float64",
         "type": "float"
        },
        {
         "name": "Regionname",
         "rawType": "object",
         "type": "string"
        },
        {
         "name": "Propertycount",
         "rawType": "float64",
         "type": "float"
        }
       ],
       "conversionMethod": "pd.DataFrame",
       "ref": "bab1d201-fe9f-499c-8651-7cf9e730f6b5",
       "rows": [
        [
         "0",
         "Abbotsford",
         "68 Studley St",
         "2",
         "h",
         null,
         "SS",
         "Jellis",
         "3/9/2016",
         "2.5",
         "3067.0",
         "2.0",
         "1.0",
         "1.0",
         "126.0",
         null,
         null,
         "Yarra",
         "-37.8014",
         "144.9958",
         "Northern Metropolitan",
         "4019.0"
        ],
        [
         "1",
         "Abbotsford",
         "85 Turner St",
         "2",
         "h",
         "1480000.0",
         "S",
         "Biggin",
         "3/12/2016",
         "2.5",
         "3067.0",
         "2.0",
         "1.0",
         "1.0",
         "202.0",
         null,
         null,
         "Yarra",
         "-37.7996",
         "144.9984",
         "Northern Metropolitan",
         "4019.0"
        ],
        [
         "2",
         "Abbotsford",
         "25 Bloomburg St",
         "2",
         "h",
         "1035000.0",
         "S",
         "Biggin",
         "4/2/2016",
         "2.5",
         "3067.0",
         "2.0",
         "1.0",
         "0.0",
         "156.0",
         "79.0",
         "1900.0",
         "Yarra",
         "-37.8079",
         "144.9934",
         "Northern Metropolitan",
         "4019.0"
        ],
        [
         "3",
         "Abbotsford",
         "18/659 Victoria St",
         "3",
         "u",
         null,
         "VB",
         "Rounds",
         "4/2/2016",
         "2.5",
         "3067.0",
         "3.0",
         "2.0",
         "1.0",
         "0.0",
         null,
         null,
         "Yarra",
         "-37.8114",
         "145.0116",
         "Northern Metropolitan",
         "4019.0"
        ],
        [
         "4",
         "Abbotsford",
         "5 Charles St",
         "3",
         "h",
         "1465000.0",
         "SP",
         "Biggin",
         "4/3/2017",
         "2.5",
         "3067.0",
         "3.0",
         "2.0",
         "0.0",
         "134.0",
         "150.0",
         "1900.0",
         "Yarra",
         "-37.8093",
         "144.9944",
         "Northern Metropolitan",
         "4019.0"
        ]
       ],
       "shape": {
        "columns": 21,
        "rows": 5
       }
      },
      "text/html": [
       "<div>\n",
       "<style scoped>\n",
       "    .dataframe tbody tr th:only-of-type {\n",
       "        vertical-align: middle;\n",
       "    }\n",
       "\n",
       "    .dataframe tbody tr th {\n",
       "        vertical-align: top;\n",
       "    }\n",
       "\n",
       "    .dataframe thead th {\n",
       "        text-align: right;\n",
       "    }\n",
       "</style>\n",
       "<table border=\"1\" class=\"dataframe\">\n",
       "  <thead>\n",
       "    <tr style=\"text-align: right;\">\n",
       "      <th></th>\n",
       "      <th>Suburb</th>\n",
       "      <th>Address</th>\n",
       "      <th>Rooms</th>\n",
       "      <th>Type</th>\n",
       "      <th>Price</th>\n",
       "      <th>Method</th>\n",
       "      <th>SellerG</th>\n",
       "      <th>Date</th>\n",
       "      <th>Distance</th>\n",
       "      <th>Postcode</th>\n",
       "      <th>...</th>\n",
       "      <th>Bathroom</th>\n",
       "      <th>Car</th>\n",
       "      <th>Landsize</th>\n",
       "      <th>BuildingArea</th>\n",
       "      <th>YearBuilt</th>\n",
       "      <th>CouncilArea</th>\n",
       "      <th>Lattitude</th>\n",
       "      <th>Longtitude</th>\n",
       "      <th>Regionname</th>\n",
       "      <th>Propertycount</th>\n",
       "    </tr>\n",
       "  </thead>\n",
       "  <tbody>\n",
       "    <tr>\n",
       "      <th>0</th>\n",
       "      <td>Abbotsford</td>\n",
       "      <td>68 Studley St</td>\n",
       "      <td>2</td>\n",
       "      <td>h</td>\n",
       "      <td>NaN</td>\n",
       "      <td>SS</td>\n",
       "      <td>Jellis</td>\n",
       "      <td>3/9/2016</td>\n",
       "      <td>2.5</td>\n",
       "      <td>3067.0</td>\n",
       "      <td>...</td>\n",
       "      <td>1.0</td>\n",
       "      <td>1.0</td>\n",
       "      <td>126.0</td>\n",
       "      <td>NaN</td>\n",
       "      <td>NaN</td>\n",
       "      <td>Yarra</td>\n",
       "      <td>-37.8014</td>\n",
       "      <td>144.9958</td>\n",
       "      <td>Northern Metropolitan</td>\n",
       "      <td>4019.0</td>\n",
       "    </tr>\n",
       "    <tr>\n",
       "      <th>1</th>\n",
       "      <td>Abbotsford</td>\n",
       "      <td>85 Turner St</td>\n",
       "      <td>2</td>\n",
       "      <td>h</td>\n",
       "      <td>1480000.0</td>\n",
       "      <td>S</td>\n",
       "      <td>Biggin</td>\n",
       "      <td>3/12/2016</td>\n",
       "      <td>2.5</td>\n",
       "      <td>3067.0</td>\n",
       "      <td>...</td>\n",
       "      <td>1.0</td>\n",
       "      <td>1.0</td>\n",
       "      <td>202.0</td>\n",
       "      <td>NaN</td>\n",
       "      <td>NaN</td>\n",
       "      <td>Yarra</td>\n",
       "      <td>-37.7996</td>\n",
       "      <td>144.9984</td>\n",
       "      <td>Northern Metropolitan</td>\n",
       "      <td>4019.0</td>\n",
       "    </tr>\n",
       "    <tr>\n",
       "      <th>2</th>\n",
       "      <td>Abbotsford</td>\n",
       "      <td>25 Bloomburg St</td>\n",
       "      <td>2</td>\n",
       "      <td>h</td>\n",
       "      <td>1035000.0</td>\n",
       "      <td>S</td>\n",
       "      <td>Biggin</td>\n",
       "      <td>4/2/2016</td>\n",
       "      <td>2.5</td>\n",
       "      <td>3067.0</td>\n",
       "      <td>...</td>\n",
       "      <td>1.0</td>\n",
       "      <td>0.0</td>\n",
       "      <td>156.0</td>\n",
       "      <td>79.0</td>\n",
       "      <td>1900.0</td>\n",
       "      <td>Yarra</td>\n",
       "      <td>-37.8079</td>\n",
       "      <td>144.9934</td>\n",
       "      <td>Northern Metropolitan</td>\n",
       "      <td>4019.0</td>\n",
       "    </tr>\n",
       "    <tr>\n",
       "      <th>3</th>\n",
       "      <td>Abbotsford</td>\n",
       "      <td>18/659 Victoria St</td>\n",
       "      <td>3</td>\n",
       "      <td>u</td>\n",
       "      <td>NaN</td>\n",
       "      <td>VB</td>\n",
       "      <td>Rounds</td>\n",
       "      <td>4/2/2016</td>\n",
       "      <td>2.5</td>\n",
       "      <td>3067.0</td>\n",
       "      <td>...</td>\n",
       "      <td>2.0</td>\n",
       "      <td>1.0</td>\n",
       "      <td>0.0</td>\n",
       "      <td>NaN</td>\n",
       "      <td>NaN</td>\n",
       "      <td>Yarra</td>\n",
       "      <td>-37.8114</td>\n",
       "      <td>145.0116</td>\n",
       "      <td>Northern Metropolitan</td>\n",
       "      <td>4019.0</td>\n",
       "    </tr>\n",
       "    <tr>\n",
       "      <th>4</th>\n",
       "      <td>Abbotsford</td>\n",
       "      <td>5 Charles St</td>\n",
       "      <td>3</td>\n",
       "      <td>h</td>\n",
       "      <td>1465000.0</td>\n",
       "      <td>SP</td>\n",
       "      <td>Biggin</td>\n",
       "      <td>4/3/2017</td>\n",
       "      <td>2.5</td>\n",
       "      <td>3067.0</td>\n",
       "      <td>...</td>\n",
       "      <td>2.0</td>\n",
       "      <td>0.0</td>\n",
       "      <td>134.0</td>\n",
       "      <td>150.0</td>\n",
       "      <td>1900.0</td>\n",
       "      <td>Yarra</td>\n",
       "      <td>-37.8093</td>\n",
       "      <td>144.9944</td>\n",
       "      <td>Northern Metropolitan</td>\n",
       "      <td>4019.0</td>\n",
       "    </tr>\n",
       "  </tbody>\n",
       "</table>\n",
       "<p>5 rows × 21 columns</p>\n",
       "</div>"
      ],
      "text/plain": [
       "       Suburb             Address  Rooms Type      Price Method SellerG  \\\n",
       "0  Abbotsford       68 Studley St      2    h        NaN     SS  Jellis   \n",
       "1  Abbotsford        85 Turner St      2    h  1480000.0      S  Biggin   \n",
       "2  Abbotsford     25 Bloomburg St      2    h  1035000.0      S  Biggin   \n",
       "3  Abbotsford  18/659 Victoria St      3    u        NaN     VB  Rounds   \n",
       "4  Abbotsford        5 Charles St      3    h  1465000.0     SP  Biggin   \n",
       "\n",
       "        Date  Distance  Postcode  ...  Bathroom  Car  Landsize  BuildingArea  \\\n",
       "0   3/9/2016       2.5    3067.0  ...       1.0  1.0     126.0           NaN   \n",
       "1  3/12/2016       2.5    3067.0  ...       1.0  1.0     202.0           NaN   \n",
       "2   4/2/2016       2.5    3067.0  ...       1.0  0.0     156.0          79.0   \n",
       "3   4/2/2016       2.5    3067.0  ...       2.0  1.0       0.0           NaN   \n",
       "4   4/3/2017       2.5    3067.0  ...       2.0  0.0     134.0         150.0   \n",
       "\n",
       "   YearBuilt  CouncilArea Lattitude  Longtitude             Regionname  \\\n",
       "0        NaN        Yarra  -37.8014    144.9958  Northern Metropolitan   \n",
       "1        NaN        Yarra  -37.7996    144.9984  Northern Metropolitan   \n",
       "2     1900.0        Yarra  -37.8079    144.9934  Northern Metropolitan   \n",
       "3        NaN        Yarra  -37.8114    145.0116  Northern Metropolitan   \n",
       "4     1900.0        Yarra  -37.8093    144.9944  Northern Metropolitan   \n",
       "\n",
       "  Propertycount  \n",
       "0        4019.0  \n",
       "1        4019.0  \n",
       "2        4019.0  \n",
       "3        4019.0  \n",
       "4        4019.0  \n",
       "\n",
       "[5 rows x 21 columns]"
      ]
     },
     "execution_count": 13,
     "metadata": {},
     "output_type": "execute_result"
    }
   ],
   "source": [
    "df_mel = pd.read_csv('data-course/datasets/melbourne_housing_extra_data.csv')\n",
    "df_mel.head()"
   ]
  },
  {
   "cell_type": "code",
   "execution_count": 14,
   "id": "886e2480",
   "metadata": {},
   "outputs": [
    {
     "data": {
      "application/vnd.microsoft.datawrangler.viewer.v0+json": {
       "columns": [
        {
         "name": "index",
         "rawType": "int64",
         "type": "integer"
        },
        {
         "name": "age",
         "rawType": "int64",
         "type": "integer"
        },
        {
         "name": "workclass",
         "rawType": "object",
         "type": "string"
        },
        {
         "name": "fnlwgt",
         "rawType": "int64",
         "type": "integer"
        },
        {
         "name": "education",
         "rawType": "object",
         "type": "string"
        },
        {
         "name": "educational-num",
         "rawType": "int64",
         "type": "integer"
        },
        {
         "name": "marital-status",
         "rawType": "object",
         "type": "string"
        },
        {
         "name": "occupation",
         "rawType": "object",
         "type": "string"
        },
        {
         "name": "relationship",
         "rawType": "object",
         "type": "string"
        },
        {
         "name": "race",
         "rawType": "object",
         "type": "string"
        },
        {
         "name": "gender",
         "rawType": "object",
         "type": "string"
        },
        {
         "name": "capital-gain",
         "rawType": "int64",
         "type": "integer"
        },
        {
         "name": "capital-loss",
         "rawType": "int64",
         "type": "integer"
        },
        {
         "name": "hours-per-week",
         "rawType": "int64",
         "type": "integer"
        },
        {
         "name": "native-country",
         "rawType": "object",
         "type": "string"
        },
        {
         "name": "income",
         "rawType": "object",
         "type": "string"
        }
       ],
       "conversionMethod": "pd.DataFrame",
       "ref": "9544b449-f310-4627-837a-4fdf8ebfe19e",
       "rows": [
        [
         "0",
         "25",
         "Private",
         "226802",
         "11th",
         "7",
         "Never-married",
         "Machine-op-inspct",
         "Own-child",
         "Black",
         "Male",
         "0",
         "0",
         "40",
         "United-States",
         "<=50K"
        ],
        [
         "1",
         "38",
         "Private",
         "89814",
         "HS-grad",
         "9",
         "Married-civ-spouse",
         "Farming-fishing",
         "Husband",
         "White",
         "Male",
         "0",
         "0",
         "50",
         "United-States",
         "<=50K"
        ],
        [
         "2",
         "28",
         "Local-gov",
         "336951",
         "Assoc-acdm",
         "12",
         "Married-civ-spouse",
         "Protective-serv",
         "Husband",
         "White",
         "Male",
         "0",
         "0",
         "40",
         "United-States",
         ">50K"
        ],
        [
         "3",
         "44",
         "Private",
         "160323",
         "Some-college",
         "10",
         "Married-civ-spouse",
         "Machine-op-inspct",
         "Husband",
         "Black",
         "Male",
         "7688",
         "0",
         "40",
         "United-States",
         ">50K"
        ],
        [
         "4",
         "18",
         "?",
         "103497",
         "Some-college",
         "10",
         "Never-married",
         "?",
         "Own-child",
         "White",
         "Female",
         "0",
         "0",
         "30",
         "United-States",
         "<=50K"
        ]
       ],
       "shape": {
        "columns": 15,
        "rows": 5
       }
      },
      "text/html": [
       "<div>\n",
       "<style scoped>\n",
       "    .dataframe tbody tr th:only-of-type {\n",
       "        vertical-align: middle;\n",
       "    }\n",
       "\n",
       "    .dataframe tbody tr th {\n",
       "        vertical-align: top;\n",
       "    }\n",
       "\n",
       "    .dataframe thead th {\n",
       "        text-align: right;\n",
       "    }\n",
       "</style>\n",
       "<table border=\"1\" class=\"dataframe\">\n",
       "  <thead>\n",
       "    <tr style=\"text-align: right;\">\n",
       "      <th></th>\n",
       "      <th>age</th>\n",
       "      <th>workclass</th>\n",
       "      <th>fnlwgt</th>\n",
       "      <th>education</th>\n",
       "      <th>educational-num</th>\n",
       "      <th>marital-status</th>\n",
       "      <th>occupation</th>\n",
       "      <th>relationship</th>\n",
       "      <th>race</th>\n",
       "      <th>gender</th>\n",
       "      <th>capital-gain</th>\n",
       "      <th>capital-loss</th>\n",
       "      <th>hours-per-week</th>\n",
       "      <th>native-country</th>\n",
       "      <th>income</th>\n",
       "    </tr>\n",
       "  </thead>\n",
       "  <tbody>\n",
       "    <tr>\n",
       "      <th>0</th>\n",
       "      <td>25</td>\n",
       "      <td>Private</td>\n",
       "      <td>226802</td>\n",
       "      <td>11th</td>\n",
       "      <td>7</td>\n",
       "      <td>Never-married</td>\n",
       "      <td>Machine-op-inspct</td>\n",
       "      <td>Own-child</td>\n",
       "      <td>Black</td>\n",
       "      <td>Male</td>\n",
       "      <td>0</td>\n",
       "      <td>0</td>\n",
       "      <td>40</td>\n",
       "      <td>United-States</td>\n",
       "      <td>&lt;=50K</td>\n",
       "    </tr>\n",
       "    <tr>\n",
       "      <th>1</th>\n",
       "      <td>38</td>\n",
       "      <td>Private</td>\n",
       "      <td>89814</td>\n",
       "      <td>HS-grad</td>\n",
       "      <td>9</td>\n",
       "      <td>Married-civ-spouse</td>\n",
       "      <td>Farming-fishing</td>\n",
       "      <td>Husband</td>\n",
       "      <td>White</td>\n",
       "      <td>Male</td>\n",
       "      <td>0</td>\n",
       "      <td>0</td>\n",
       "      <td>50</td>\n",
       "      <td>United-States</td>\n",
       "      <td>&lt;=50K</td>\n",
       "    </tr>\n",
       "    <tr>\n",
       "      <th>2</th>\n",
       "      <td>28</td>\n",
       "      <td>Local-gov</td>\n",
       "      <td>336951</td>\n",
       "      <td>Assoc-acdm</td>\n",
       "      <td>12</td>\n",
       "      <td>Married-civ-spouse</td>\n",
       "      <td>Protective-serv</td>\n",
       "      <td>Husband</td>\n",
       "      <td>White</td>\n",
       "      <td>Male</td>\n",
       "      <td>0</td>\n",
       "      <td>0</td>\n",
       "      <td>40</td>\n",
       "      <td>United-States</td>\n",
       "      <td>&gt;50K</td>\n",
       "    </tr>\n",
       "    <tr>\n",
       "      <th>3</th>\n",
       "      <td>44</td>\n",
       "      <td>Private</td>\n",
       "      <td>160323</td>\n",
       "      <td>Some-college</td>\n",
       "      <td>10</td>\n",
       "      <td>Married-civ-spouse</td>\n",
       "      <td>Machine-op-inspct</td>\n",
       "      <td>Husband</td>\n",
       "      <td>Black</td>\n",
       "      <td>Male</td>\n",
       "      <td>7688</td>\n",
       "      <td>0</td>\n",
       "      <td>40</td>\n",
       "      <td>United-States</td>\n",
       "      <td>&gt;50K</td>\n",
       "    </tr>\n",
       "    <tr>\n",
       "      <th>4</th>\n",
       "      <td>18</td>\n",
       "      <td>?</td>\n",
       "      <td>103497</td>\n",
       "      <td>Some-college</td>\n",
       "      <td>10</td>\n",
       "      <td>Never-married</td>\n",
       "      <td>?</td>\n",
       "      <td>Own-child</td>\n",
       "      <td>White</td>\n",
       "      <td>Female</td>\n",
       "      <td>0</td>\n",
       "      <td>0</td>\n",
       "      <td>30</td>\n",
       "      <td>United-States</td>\n",
       "      <td>&lt;=50K</td>\n",
       "    </tr>\n",
       "  </tbody>\n",
       "</table>\n",
       "</div>"
      ],
      "text/plain": [
       "   age  workclass  fnlwgt     education  educational-num      marital-status  \\\n",
       "0   25    Private  226802          11th                7       Never-married   \n",
       "1   38    Private   89814       HS-grad                9  Married-civ-spouse   \n",
       "2   28  Local-gov  336951    Assoc-acdm               12  Married-civ-spouse   \n",
       "3   44    Private  160323  Some-college               10  Married-civ-spouse   \n",
       "4   18          ?  103497  Some-college               10       Never-married   \n",
       "\n",
       "          occupation relationship   race  gender  capital-gain  capital-loss  \\\n",
       "0  Machine-op-inspct    Own-child  Black    Male             0             0   \n",
       "1    Farming-fishing      Husband  White    Male             0             0   \n",
       "2    Protective-serv      Husband  White    Male             0             0   \n",
       "3  Machine-op-inspct      Husband  Black    Male          7688             0   \n",
       "4                  ?    Own-child  White  Female             0             0   \n",
       "\n",
       "   hours-per-week native-country income  \n",
       "0              40  United-States  <=50K  \n",
       "1              50  United-States  <=50K  \n",
       "2              40  United-States   >50K  \n",
       "3              40  United-States   >50K  \n",
       "4              30  United-States  <=50K  "
      ]
     },
     "execution_count": 14,
     "metadata": {},
     "output_type": "execute_result"
    }
   ],
   "source": [
    "df_adult = pd.read_csv('data-course/datasets/adult_income.csv')\n",
    "df_adult.head()"
   ]
  },
  {
   "cell_type": "markdown",
   "id": "59ae4997",
   "metadata": {},
   "source": [
    "## Adult Income"
   ]
  },
  {
   "cell_type": "markdown",
   "id": "3a06cf1e",
   "metadata": {},
   "source": [
    "#### Operasi statistika dasar untuk atribut numerik"
   ]
  },
  {
   "cell_type": "code",
   "execution_count": 15,
   "id": "f4ee22cf",
   "metadata": {},
   "outputs": [
    {
     "name": "stdout",
     "output_type": "stream",
     "text": [
      "Statistika dasar untuk atribut numerik df_adult:\n"
     ]
    },
    {
     "data": {
      "application/vnd.microsoft.datawrangler.viewer.v0+json": {
       "columns": [
        {
         "name": "index",
         "rawType": "object",
         "type": "string"
        },
        {
         "name": "age",
         "rawType": "float64",
         "type": "float"
        },
        {
         "name": "fnlwgt",
         "rawType": "float64",
         "type": "float"
        },
        {
         "name": "educational-num",
         "rawType": "float64",
         "type": "float"
        },
        {
         "name": "capital-gain",
         "rawType": "float64",
         "type": "float"
        },
        {
         "name": "capital-loss",
         "rawType": "float64",
         "type": "float"
        },
        {
         "name": "hours-per-week",
         "rawType": "float64",
         "type": "float"
        }
       ],
       "conversionMethod": "pd.DataFrame",
       "ref": "060de46c-de24-4afa-a1d2-fbd282fcc3ac",
       "rows": [
        [
         "count",
         "48842.0",
         "48842.0",
         "48842.0",
         "48842.0",
         "48842.0",
         "48842.0"
        ],
        [
         "mean",
         "38.64358543876172",
         "189664.13459727284",
         "10.078088530363212",
         "1079.0676262233324",
         "87.50231358257237",
         "40.422382375824085"
        ],
        [
         "std",
         "13.710509934443557",
         "105604.02542315728",
         "2.5709727555922566",
         "7452.019057655394",
         "403.00455212435907",
         "12.391444024252307"
        ],
        [
         "min",
         "17.0",
         "12285.0",
         "1.0",
         "0.0",
         "0.0",
         "1.0"
        ],
        [
         "25%",
         "28.0",
         "117550.5",
         "9.0",
         "0.0",
         "0.0",
         "40.0"
        ],
        [
         "50%",
         "37.0",
         "178144.5",
         "10.0",
         "0.0",
         "0.0",
         "40.0"
        ],
        [
         "75%",
         "48.0",
         "237642.0",
         "12.0",
         "0.0",
         "0.0",
         "45.0"
        ],
        [
         "max",
         "90.0",
         "1490400.0",
         "16.0",
         "99999.0",
         "4356.0",
         "99.0"
        ]
       ],
       "shape": {
        "columns": 6,
        "rows": 8
       }
      },
      "text/html": [
       "<div>\n",
       "<style scoped>\n",
       "    .dataframe tbody tr th:only-of-type {\n",
       "        vertical-align: middle;\n",
       "    }\n",
       "\n",
       "    .dataframe tbody tr th {\n",
       "        vertical-align: top;\n",
       "    }\n",
       "\n",
       "    .dataframe thead th {\n",
       "        text-align: right;\n",
       "    }\n",
       "</style>\n",
       "<table border=\"1\" class=\"dataframe\">\n",
       "  <thead>\n",
       "    <tr style=\"text-align: right;\">\n",
       "      <th></th>\n",
       "      <th>age</th>\n",
       "      <th>fnlwgt</th>\n",
       "      <th>educational-num</th>\n",
       "      <th>capital-gain</th>\n",
       "      <th>capital-loss</th>\n",
       "      <th>hours-per-week</th>\n",
       "    </tr>\n",
       "  </thead>\n",
       "  <tbody>\n",
       "    <tr>\n",
       "      <th>count</th>\n",
       "      <td>48842.000000</td>\n",
       "      <td>4.884200e+04</td>\n",
       "      <td>48842.000000</td>\n",
       "      <td>48842.000000</td>\n",
       "      <td>48842.000000</td>\n",
       "      <td>48842.000000</td>\n",
       "    </tr>\n",
       "    <tr>\n",
       "      <th>mean</th>\n",
       "      <td>38.643585</td>\n",
       "      <td>1.896641e+05</td>\n",
       "      <td>10.078089</td>\n",
       "      <td>1079.067626</td>\n",
       "      <td>87.502314</td>\n",
       "      <td>40.422382</td>\n",
       "    </tr>\n",
       "    <tr>\n",
       "      <th>std</th>\n",
       "      <td>13.710510</td>\n",
       "      <td>1.056040e+05</td>\n",
       "      <td>2.570973</td>\n",
       "      <td>7452.019058</td>\n",
       "      <td>403.004552</td>\n",
       "      <td>12.391444</td>\n",
       "    </tr>\n",
       "    <tr>\n",
       "      <th>min</th>\n",
       "      <td>17.000000</td>\n",
       "      <td>1.228500e+04</td>\n",
       "      <td>1.000000</td>\n",
       "      <td>0.000000</td>\n",
       "      <td>0.000000</td>\n",
       "      <td>1.000000</td>\n",
       "    </tr>\n",
       "    <tr>\n",
       "      <th>25%</th>\n",
       "      <td>28.000000</td>\n",
       "      <td>1.175505e+05</td>\n",
       "      <td>9.000000</td>\n",
       "      <td>0.000000</td>\n",
       "      <td>0.000000</td>\n",
       "      <td>40.000000</td>\n",
       "    </tr>\n",
       "    <tr>\n",
       "      <th>50%</th>\n",
       "      <td>37.000000</td>\n",
       "      <td>1.781445e+05</td>\n",
       "      <td>10.000000</td>\n",
       "      <td>0.000000</td>\n",
       "      <td>0.000000</td>\n",
       "      <td>40.000000</td>\n",
       "    </tr>\n",
       "    <tr>\n",
       "      <th>75%</th>\n",
       "      <td>48.000000</td>\n",
       "      <td>2.376420e+05</td>\n",
       "      <td>12.000000</td>\n",
       "      <td>0.000000</td>\n",
       "      <td>0.000000</td>\n",
       "      <td>45.000000</td>\n",
       "    </tr>\n",
       "    <tr>\n",
       "      <th>max</th>\n",
       "      <td>90.000000</td>\n",
       "      <td>1.490400e+06</td>\n",
       "      <td>16.000000</td>\n",
       "      <td>99999.000000</td>\n",
       "      <td>4356.000000</td>\n",
       "      <td>99.000000</td>\n",
       "    </tr>\n",
       "  </tbody>\n",
       "</table>\n",
       "</div>"
      ],
      "text/plain": [
       "                age        fnlwgt  educational-num  capital-gain  \\\n",
       "count  48842.000000  4.884200e+04     48842.000000  48842.000000   \n",
       "mean      38.643585  1.896641e+05        10.078089   1079.067626   \n",
       "std       13.710510  1.056040e+05         2.570973   7452.019058   \n",
       "min       17.000000  1.228500e+04         1.000000      0.000000   \n",
       "25%       28.000000  1.175505e+05         9.000000      0.000000   \n",
       "50%       37.000000  1.781445e+05        10.000000      0.000000   \n",
       "75%       48.000000  2.376420e+05        12.000000      0.000000   \n",
       "max       90.000000  1.490400e+06        16.000000  99999.000000   \n",
       "\n",
       "       capital-loss  hours-per-week  \n",
       "count  48842.000000    48842.000000  \n",
       "mean      87.502314       40.422382  \n",
       "std      403.004552       12.391444  \n",
       "min        0.000000        1.000000  \n",
       "25%        0.000000       40.000000  \n",
       "50%        0.000000       40.000000  \n",
       "75%        0.000000       45.000000  \n",
       "max     4356.000000       99.000000  "
      ]
     },
     "execution_count": 15,
     "metadata": {},
     "output_type": "execute_result"
    }
   ],
   "source": [
    "print(\"Statistika dasar untuk atribut numerik df_adult:\")\n",
    "df_adult.describe()"
   ]
  },
  {
   "cell_type": "markdown",
   "id": "87ff13b6",
   "metadata": {},
   "source": [
    "#### Distribusi nilai untuk atribut kategorikal"
   ]
  },
  {
   "cell_type": "code",
   "execution_count": 16,
   "id": "b6caad1c",
   "metadata": {},
   "outputs": [
    {
     "name": "stdout",
     "output_type": "stream",
     "text": [
      "\n",
      "Distribusi nilai untuk atribut kategorikal df_adult:\n",
      "\n",
      "Distribusi nilai untuk workclass:\n",
      "workclass\n",
      "Private             33906\n",
      "Self-emp-not-inc     3862\n",
      "Local-gov            3136\n",
      "?                    2799\n",
      "State-gov            1981\n",
      "Self-emp-inc         1695\n",
      "Federal-gov          1432\n",
      "Without-pay            21\n",
      "Never-worked           10\n",
      "Name: count, dtype: int64\n",
      "\n",
      "Distribusi nilai untuk education:\n",
      "education\n",
      "HS-grad         15784\n",
      "Some-college    10878\n",
      "Bachelors        8025\n",
      "Masters          2657\n",
      "Assoc-voc        2061\n",
      "11th             1812\n",
      "Assoc-acdm       1601\n",
      "10th             1389\n",
      "7th-8th           955\n",
      "Prof-school       834\n",
      "9th               756\n",
      "12th              657\n",
      "Doctorate         594\n",
      "5th-6th           509\n",
      "1st-4th           247\n",
      "Preschool          83\n",
      "Name: count, dtype: int64\n",
      "\n",
      "Distribusi nilai untuk marital-status:\n",
      "marital-status\n",
      "Married-civ-spouse       22379\n",
      "Never-married            16117\n",
      "Divorced                  6633\n",
      "Separated                 1530\n",
      "Widowed                   1518\n",
      "Married-spouse-absent      628\n",
      "Married-AF-spouse           37\n",
      "Name: count, dtype: int64\n",
      "\n",
      "Distribusi nilai untuk occupation:\n",
      "occupation\n",
      "Prof-specialty       6172\n",
      "Craft-repair         6112\n",
      "Exec-managerial      6086\n",
      "Adm-clerical         5611\n",
      "Sales                5504\n",
      "Other-service        4923\n",
      "Machine-op-inspct    3022\n",
      "?                    2809\n",
      "Transport-moving     2355\n",
      "Handlers-cleaners    2072\n",
      "Farming-fishing      1490\n",
      "Tech-support         1446\n",
      "Protective-serv       983\n",
      "Priv-house-serv       242\n",
      "Armed-Forces           15\n",
      "Name: count, dtype: int64\n",
      "\n",
      "Distribusi nilai untuk relationship:\n",
      "relationship\n",
      "Husband           19716\n",
      "Not-in-family     12583\n",
      "Own-child          7581\n",
      "Unmarried          5125\n",
      "Wife               2331\n",
      "Other-relative     1506\n",
      "Name: count, dtype: int64\n",
      "\n",
      "Distribusi nilai untuk race:\n",
      "race\n",
      "White                 41762\n",
      "Black                  4685\n",
      "Asian-Pac-Islander     1519\n",
      "Amer-Indian-Eskimo      470\n",
      "Other                   406\n",
      "Name: count, dtype: int64\n",
      "\n",
      "Distribusi nilai untuk gender:\n",
      "gender\n",
      "Male      32650\n",
      "Female    16192\n",
      "Name: count, dtype: int64\n",
      "\n",
      "Distribusi nilai untuk native-country:\n",
      "native-country\n",
      "United-States                 43832\n",
      "Mexico                          951\n",
      "?                               857\n",
      "Philippines                     295\n",
      "Germany                         206\n",
      "Puerto-Rico                     184\n",
      "Canada                          182\n",
      "El-Salvador                     155\n",
      "India                           151\n",
      "Cuba                            138\n",
      "England                         127\n",
      "China                           122\n",
      "South                           115\n",
      "Jamaica                         106\n",
      "Italy                           105\n",
      "Dominican-Republic              103\n",
      "Japan                            92\n",
      "Guatemala                        88\n",
      "Poland                           87\n",
      "Vietnam                          86\n",
      "Columbia                         85\n",
      "Haiti                            75\n",
      "Portugal                         67\n",
      "Taiwan                           65\n",
      "Iran                             59\n",
      "Nicaragua                        49\n",
      "Greece                           49\n",
      "Peru                             46\n",
      "Ecuador                          45\n",
      "France                           38\n",
      "Ireland                          37\n",
      "Thailand                         30\n",
      "Hong                             30\n",
      "Cambodia                         28\n",
      "Trinadad&Tobago                  27\n",
      "Laos                             23\n",
      "Outlying-US(Guam-USVI-etc)       23\n",
      "Yugoslavia                       23\n",
      "Scotland                         21\n",
      "Honduras                         20\n",
      "Hungary                          19\n",
      "Holand-Netherlands                1\n",
      "Name: count, dtype: int64\n",
      "\n",
      "Distribusi nilai untuk income:\n",
      "income\n",
      "<=50K    37155\n",
      ">50K     11687\n",
      "Name: count, dtype: int64\n"
     ]
    }
   ],
   "source": [
    "print(\"\\nDistribusi nilai untuk atribut kategorikal df_adult:\")\n",
    "for col in df_adult.select_dtypes(include='object').columns:\n",
    "\tprint(f\"\\nDistribusi nilai untuk {col}:\")\n",
    "\tprint(df_adult[col].value_counts())"
   ]
  },
  {
   "cell_type": "markdown",
   "id": "5765fcb4",
   "metadata": {},
   "source": [
    "#### Jumlah missing value dari setiap atribut"
   ]
  },
  {
   "cell_type": "code",
   "execution_count": 17,
   "id": "f0251dd3",
   "metadata": {},
   "outputs": [
    {
     "name": "stdout",
     "output_type": "stream",
     "text": [
      "\n",
      "Jumlah missing value untuk df_adult:\n",
      "age                0\n",
      "workclass          0\n",
      "fnlwgt             0\n",
      "education          0\n",
      "educational-num    0\n",
      "marital-status     0\n",
      "occupation         0\n",
      "relationship       0\n",
      "race               0\n",
      "gender             0\n",
      "capital-gain       0\n",
      "capital-loss       0\n",
      "hours-per-week     0\n",
      "native-country     0\n",
      "income             0\n",
      "dtype: int64\n"
     ]
    }
   ],
   "source": [
    "print(\"\\nJumlah missing value untuk df_adult:\")\n",
    "print(df_adult.isnull().sum())"
   ]
  },
  {
   "cell_type": "markdown",
   "id": "69971e5b",
   "metadata": {},
   "source": [
    "Missing value pada setiap atribut di dataset ini diwakili oleh tanda `?`. Kita dapat menghitung jumlah missing value pada setiap atribut dengan menggunakan fungsi `isna()` dan `sum()`. Kita replace tanda `?` dengan `NaN` agar dapat dihitung dengan fungsi tersebut dengan menggunakan fungsi `replace()`."
   ]
  },
  {
   "cell_type": "code",
   "execution_count": 18,
   "id": "b1492f4a",
   "metadata": {},
   "outputs": [
    {
     "name": "stdout",
     "output_type": "stream",
     "text": [
      "\n",
      "Jumlah missing value untuk df_adult setelah replace:\n",
      "age                   0\n",
      "workclass          2799\n",
      "fnlwgt                0\n",
      "education             0\n",
      "educational-num       0\n",
      "marital-status        0\n",
      "occupation         2809\n",
      "relationship          0\n",
      "race                  0\n",
      "gender                0\n",
      "capital-gain          0\n",
      "capital-loss          0\n",
      "hours-per-week        0\n",
      "native-country      857\n",
      "income                0\n",
      "dtype: int64\n"
     ]
    }
   ],
   "source": [
    "import numpy as np\n",
    "\n",
    "# Replace '?' dengan NaN\n",
    "df_adult.replace('?', np.nan, inplace=True)\n",
    "\n",
    "# Hitung jumlah missing values\n",
    "print(\"\\nJumlah missing value untuk df_adult setelah replace:\")\n",
    "print(df_adult.isna().sum())"
   ]
  },
  {
   "cell_type": "markdown",
   "id": "24483af5",
   "metadata": {},
   "source": [
    "## Melbourne Housing Extra Data"
   ]
  },
  {
   "cell_type": "markdown",
   "id": "bb1bff1d",
   "metadata": {},
   "source": [
    "#### Operasi statistika dasar untuk atribut numerik"
   ]
  },
  {
   "cell_type": "code",
   "execution_count": 19,
   "id": "6d267bb5",
   "metadata": {},
   "outputs": [
    {
     "name": "stdout",
     "output_type": "stream",
     "text": [
      "Statistika dasar untuk atribut numerik df_mel:\n"
     ]
    },
    {
     "data": {
      "application/vnd.microsoft.datawrangler.viewer.v0+json": {
       "columns": [
        {
         "name": "index",
         "rawType": "object",
         "type": "string"
        },
        {
         "name": "Rooms",
         "rawType": "float64",
         "type": "float"
        },
        {
         "name": "Price",
         "rawType": "float64",
         "type": "float"
        },
        {
         "name": "Distance",
         "rawType": "float64",
         "type": "float"
        },
        {
         "name": "Postcode",
         "rawType": "float64",
         "type": "float"
        },
        {
         "name": "Bedroom2",
         "rawType": "float64",
         "type": "float"
        },
        {
         "name": "Bathroom",
         "rawType": "float64",
         "type": "float"
        },
        {
         "name": "Car",
         "rawType": "float64",
         "type": "float"
        },
        {
         "name": "Landsize",
         "rawType": "float64",
         "type": "float"
        },
        {
         "name": "BuildingArea",
         "rawType": "float64",
         "type": "float"
        },
        {
         "name": "YearBuilt",
         "rawType": "float64",
         "type": "float"
        },
        {
         "name": "Lattitude",
         "rawType": "float64",
         "type": "float"
        },
        {
         "name": "Longtitude",
         "rawType": "float64",
         "type": "float"
        },
        {
         "name": "Propertycount",
         "rawType": "float64",
         "type": "float"
        }
       ],
       "conversionMethod": "pd.DataFrame",
       "ref": "3f35f01c-62e9-476a-bcdd-e21b71188dd6",
       "rows": [
        [
         "count",
         "19740.0",
         "15396.0",
         "19732.0",
         "19732.0",
         "15327.0",
         "15327.0",
         "15327.0",
         "14944.0",
         "8617.0",
         "9351.0",
         "15448.0",
         "15448.0",
         "19732.0"
        ],
        [
         "mean",
         "2.947163120567376",
         "1054957.3565861264",
         "9.861509223596189",
         "3106.533904317859",
         "2.9005676257584656",
         "1.5485091668297775",
         "1.578064852874013",
         "583.917090471092",
         "196.8069730764767",
         "1874.1656550101593",
         "-37.81189152123252",
         "144.99663209606422",
         "7509.802706263937"
        ],
        [
         "std",
         "0.9810476997198856",
         "645255.7175473087",
         "5.554233403886287",
         "88.42992777905474",
         "1.0074907056476132",
         "0.7133851711053425",
         "0.972221021931668",
         "3785.423174945701",
         "561.558006723333",
         "393.35488803793066",
         "0.07270838696317475",
         "0.09617801152852712",
         "4419.6786480158835"
        ],
        [
         "min",
         "1.0",
         "85000.0",
         "0.0",
         "3000.0",
         "0.0",
         "0.0",
         "0.0",
         "0.0",
         "0.0",
         "1.0",
         "-38.18255",
         "144.43162",
         "249.0"
        ],
        [
         "25%",
         "2.0",
         "630000.0",
         "6.1",
         "3046.0",
         "2.0",
         "1.0",
         "1.0",
         "166.0",
         "94.0",
         "1930.0",
         "-37.85686",
         "144.9393225",
         "4407.0"
        ],
        [
         "50%",
         "3.0",
         "880000.0",
         "9.2",
         "3101.0",
         "3.0",
         "1.0",
         "2.0",
         "420.0",
         "132.0",
         "1965.0",
         "-37.808965",
         "145.0009",
         "6567.0"
        ],
        [
         "75%",
         "4.0",
         "1301000.0",
         "12.6",
         "3147.0",
         "3.0",
         "2.0",
         "2.0",
         "663.0",
         "199.0",
         "1997.0",
         "-37.761897499999996",
         "145.05471",
         "10331.0"
        ],
        [
         "max",
         "12.0",
         "9000000.0",
         "47.4",
         "3978.0",
         "30.0",
         "12.0",
         "26.0",
         "433014.0",
         "40468.0",
         "2106.0",
         "-37.41381",
         "145.52635",
         "21650.0"
        ]
       ],
       "shape": {
        "columns": 13,
        "rows": 8
       }
      },
      "text/html": [
       "<div>\n",
       "<style scoped>\n",
       "    .dataframe tbody tr th:only-of-type {\n",
       "        vertical-align: middle;\n",
       "    }\n",
       "\n",
       "    .dataframe tbody tr th {\n",
       "        vertical-align: top;\n",
       "    }\n",
       "\n",
       "    .dataframe thead th {\n",
       "        text-align: right;\n",
       "    }\n",
       "</style>\n",
       "<table border=\"1\" class=\"dataframe\">\n",
       "  <thead>\n",
       "    <tr style=\"text-align: right;\">\n",
       "      <th></th>\n",
       "      <th>Rooms</th>\n",
       "      <th>Price</th>\n",
       "      <th>Distance</th>\n",
       "      <th>Postcode</th>\n",
       "      <th>Bedroom2</th>\n",
       "      <th>Bathroom</th>\n",
       "      <th>Car</th>\n",
       "      <th>Landsize</th>\n",
       "      <th>BuildingArea</th>\n",
       "      <th>YearBuilt</th>\n",
       "      <th>Lattitude</th>\n",
       "      <th>Longtitude</th>\n",
       "      <th>Propertycount</th>\n",
       "    </tr>\n",
       "  </thead>\n",
       "  <tbody>\n",
       "    <tr>\n",
       "      <th>count</th>\n",
       "      <td>19740.000000</td>\n",
       "      <td>1.539600e+04</td>\n",
       "      <td>19732.000000</td>\n",
       "      <td>19732.000000</td>\n",
       "      <td>15327.000000</td>\n",
       "      <td>15327.000000</td>\n",
       "      <td>15327.000000</td>\n",
       "      <td>14944.000000</td>\n",
       "      <td>8617.000000</td>\n",
       "      <td>9351.000000</td>\n",
       "      <td>15448.000000</td>\n",
       "      <td>15448.000000</td>\n",
       "      <td>19732.000000</td>\n",
       "    </tr>\n",
       "    <tr>\n",
       "      <th>mean</th>\n",
       "      <td>2.947163</td>\n",
       "      <td>1.054957e+06</td>\n",
       "      <td>9.861509</td>\n",
       "      <td>3106.533904</td>\n",
       "      <td>2.900568</td>\n",
       "      <td>1.548509</td>\n",
       "      <td>1.578065</td>\n",
       "      <td>583.917090</td>\n",
       "      <td>196.806973</td>\n",
       "      <td>1874.165655</td>\n",
       "      <td>-37.811892</td>\n",
       "      <td>144.996632</td>\n",
       "      <td>7509.802706</td>\n",
       "    </tr>\n",
       "    <tr>\n",
       "      <th>std</th>\n",
       "      <td>0.981048</td>\n",
       "      <td>6.452557e+05</td>\n",
       "      <td>5.554233</td>\n",
       "      <td>88.429928</td>\n",
       "      <td>1.007491</td>\n",
       "      <td>0.713385</td>\n",
       "      <td>0.972221</td>\n",
       "      <td>3785.423175</td>\n",
       "      <td>561.558007</td>\n",
       "      <td>393.354888</td>\n",
       "      <td>0.072708</td>\n",
       "      <td>0.096178</td>\n",
       "      <td>4419.678648</td>\n",
       "    </tr>\n",
       "    <tr>\n",
       "      <th>min</th>\n",
       "      <td>1.000000</td>\n",
       "      <td>8.500000e+04</td>\n",
       "      <td>0.000000</td>\n",
       "      <td>3000.000000</td>\n",
       "      <td>0.000000</td>\n",
       "      <td>0.000000</td>\n",
       "      <td>0.000000</td>\n",
       "      <td>0.000000</td>\n",
       "      <td>0.000000</td>\n",
       "      <td>1.000000</td>\n",
       "      <td>-38.182550</td>\n",
       "      <td>144.431620</td>\n",
       "      <td>249.000000</td>\n",
       "    </tr>\n",
       "    <tr>\n",
       "      <th>25%</th>\n",
       "      <td>2.000000</td>\n",
       "      <td>6.300000e+05</td>\n",
       "      <td>6.100000</td>\n",
       "      <td>3046.000000</td>\n",
       "      <td>2.000000</td>\n",
       "      <td>1.000000</td>\n",
       "      <td>1.000000</td>\n",
       "      <td>166.000000</td>\n",
       "      <td>94.000000</td>\n",
       "      <td>1930.000000</td>\n",
       "      <td>-37.856860</td>\n",
       "      <td>144.939323</td>\n",
       "      <td>4407.000000</td>\n",
       "    </tr>\n",
       "    <tr>\n",
       "      <th>50%</th>\n",
       "      <td>3.000000</td>\n",
       "      <td>8.800000e+05</td>\n",
       "      <td>9.200000</td>\n",
       "      <td>3101.000000</td>\n",
       "      <td>3.000000</td>\n",
       "      <td>1.000000</td>\n",
       "      <td>2.000000</td>\n",
       "      <td>420.000000</td>\n",
       "      <td>132.000000</td>\n",
       "      <td>1965.000000</td>\n",
       "      <td>-37.808965</td>\n",
       "      <td>145.000900</td>\n",
       "      <td>6567.000000</td>\n",
       "    </tr>\n",
       "    <tr>\n",
       "      <th>75%</th>\n",
       "      <td>4.000000</td>\n",
       "      <td>1.301000e+06</td>\n",
       "      <td>12.600000</td>\n",
       "      <td>3147.000000</td>\n",
       "      <td>3.000000</td>\n",
       "      <td>2.000000</td>\n",
       "      <td>2.000000</td>\n",
       "      <td>663.000000</td>\n",
       "      <td>199.000000</td>\n",
       "      <td>1997.000000</td>\n",
       "      <td>-37.761897</td>\n",
       "      <td>145.054710</td>\n",
       "      <td>10331.000000</td>\n",
       "    </tr>\n",
       "    <tr>\n",
       "      <th>max</th>\n",
       "      <td>12.000000</td>\n",
       "      <td>9.000000e+06</td>\n",
       "      <td>47.400000</td>\n",
       "      <td>3978.000000</td>\n",
       "      <td>30.000000</td>\n",
       "      <td>12.000000</td>\n",
       "      <td>26.000000</td>\n",
       "      <td>433014.000000</td>\n",
       "      <td>40468.000000</td>\n",
       "      <td>2106.000000</td>\n",
       "      <td>-37.413810</td>\n",
       "      <td>145.526350</td>\n",
       "      <td>21650.000000</td>\n",
       "    </tr>\n",
       "  </tbody>\n",
       "</table>\n",
       "</div>"
      ],
      "text/plain": [
       "              Rooms         Price      Distance      Postcode      Bedroom2  \\\n",
       "count  19740.000000  1.539600e+04  19732.000000  19732.000000  15327.000000   \n",
       "mean       2.947163  1.054957e+06      9.861509   3106.533904      2.900568   \n",
       "std        0.981048  6.452557e+05      5.554233     88.429928      1.007491   \n",
       "min        1.000000  8.500000e+04      0.000000   3000.000000      0.000000   \n",
       "25%        2.000000  6.300000e+05      6.100000   3046.000000      2.000000   \n",
       "50%        3.000000  8.800000e+05      9.200000   3101.000000      3.000000   \n",
       "75%        4.000000  1.301000e+06     12.600000   3147.000000      3.000000   \n",
       "max       12.000000  9.000000e+06     47.400000   3978.000000     30.000000   \n",
       "\n",
       "           Bathroom           Car       Landsize  BuildingArea    YearBuilt  \\\n",
       "count  15327.000000  15327.000000   14944.000000   8617.000000  9351.000000   \n",
       "mean       1.548509      1.578065     583.917090    196.806973  1874.165655   \n",
       "std        0.713385      0.972221    3785.423175    561.558007   393.354888   \n",
       "min        0.000000      0.000000       0.000000      0.000000     1.000000   \n",
       "25%        1.000000      1.000000     166.000000     94.000000  1930.000000   \n",
       "50%        1.000000      2.000000     420.000000    132.000000  1965.000000   \n",
       "75%        2.000000      2.000000     663.000000    199.000000  1997.000000   \n",
       "max       12.000000     26.000000  433014.000000  40468.000000  2106.000000   \n",
       "\n",
       "          Lattitude    Longtitude  Propertycount  \n",
       "count  15448.000000  15448.000000   19732.000000  \n",
       "mean     -37.811892    144.996632    7509.802706  \n",
       "std        0.072708      0.096178    4419.678648  \n",
       "min      -38.182550    144.431620     249.000000  \n",
       "25%      -37.856860    144.939323    4407.000000  \n",
       "50%      -37.808965    145.000900    6567.000000  \n",
       "75%      -37.761897    145.054710   10331.000000  \n",
       "max      -37.413810    145.526350   21650.000000  "
      ]
     },
     "execution_count": 19,
     "metadata": {},
     "output_type": "execute_result"
    }
   ],
   "source": [
    "print(\"Statistika dasar untuk atribut numerik df_mel:\")\n",
    "df_mel.describe()"
   ]
  },
  {
   "cell_type": "markdown",
   "id": "63f5f674",
   "metadata": {},
   "source": [
    "#### Distribusi nilai untuk atribut kategorikal"
   ]
  },
  {
   "cell_type": "code",
   "execution_count": 20,
   "id": "00e4a803",
   "metadata": {},
   "outputs": [
    {
     "name": "stdout",
     "output_type": "stream",
     "text": [
      "\n",
      "Distribusi nilai untuk atribut kategorikal df_mel:\n",
      "\n",
      "Distribusi nilai untuk Suburb:\n",
      "Suburb\n",
      "Reservoir         548\n",
      "Richmond          372\n",
      "Bentleigh East    367\n",
      "Preston           329\n",
      "Glen Iris         328\n",
      "                 ... \n",
      "Yarra Glen          1\n",
      "Brookfield          1\n",
      "Lysterfield         1\n",
      "Plenty              1\n",
      "Whittlesea          1\n",
      "Name: count, Length: 330, dtype: int64\n",
      "\n",
      "Distribusi nilai untuk Address:\n",
      "Address\n",
      "5 Charles St           5\n",
      "28 Blair St            3\n",
      "7 Churchill Av         3\n",
      "2 Bruce St             3\n",
      "3 Charles St           3\n",
      "                      ..\n",
      "106/119 Turner St      1\n",
      "411/8 Grosvenor St     1\n",
      "40 Nicholson St        1\n",
      "123/56 Nicholson St    1\n",
      "40 Federation La       1\n",
      "Name: count, Length: 19403, dtype: int64\n",
      "\n",
      "Distribusi nilai untuk Type:\n",
      "Type\n",
      "h    12992\n",
      "u     4640\n",
      "t     2108\n",
      "Name: count, dtype: int64\n",
      "\n",
      "Distribusi nilai untuk Method:\n",
      "Method\n",
      "S     11478\n",
      "SP     2812\n",
      "PI     2659\n",
      "VB     1512\n",
      "SN      870\n",
      "PN      181\n",
      "SA      132\n",
      "W        78\n",
      "SS       18\n",
      "Name: count, dtype: int64\n",
      "\n",
      "Distribusi nilai untuk SellerG:\n",
      "SellerG\n",
      "Nelson           2072\n",
      "Jellis           1938\n",
      "hockingstuart    1686\n",
      "Barry            1589\n",
      "Marshall         1265\n",
      "                 ... \n",
      "Veitch              1\n",
      "Wyndham             1\n",
      "Kaye                1\n",
      "Nicholls            1\n",
      "Bowman              1\n",
      "Name: count, Length: 308, dtype: int64\n",
      "\n",
      "Distribusi nilai untuk Date:\n",
      "Date\n",
      "27/05/2017    770\n",
      "3/6/2017      689\n",
      "17/06/2017    637\n",
      "24/06/2017    607\n",
      "27/11/2016    575\n",
      "25/02/2017    555\n",
      "12/8/2017     546\n",
      "4/3/2017      532\n",
      "10/12/2016    528\n",
      "18/03/2017    513\n",
      "29/07/2017    489\n",
      "1/7/2017      482\n",
      "12/11/2016    475\n",
      "3/12/2016     472\n",
      "15/10/2016    466\n",
      "20/05/2017    457\n",
      "28/05/2016    454\n",
      "8/4/2017      451\n",
      "22/07/2017    449\n",
      "18/06/2016    441\n",
      "19/11/2016    431\n",
      "8/7/2017      428\n",
      "13/05/2017    422\n",
      "15/07/2017    421\n",
      "7/5/2016      419\n",
      "28/08/2016    390\n",
      "8/10/2016     386\n",
      "10/9/2016     382\n",
      "24/09/2016    377\n",
      "17/09/2016    377\n",
      "4/6/2016      368\n",
      "27/06/2016    357\n",
      "29/04/2017    341\n",
      "22/05/2016    336\n",
      "3/9/2016      333\n",
      "16/04/2016    333\n",
      "14/05/2016    322\n",
      "7/11/2016     306\n",
      "22/08/2016    293\n",
      "30/07/2016    271\n",
      "6/8/2016      258\n",
      "6/5/2017      236\n",
      "13/08/2016    232\n",
      "22/04/2017    226\n",
      "16/07/2016    219\n",
      "26/07/2016    199\n",
      "23/04/2016    169\n",
      "11/2/2017     132\n",
      "12/6/2016      76\n",
      "11/3/2017      65\n",
      "4/2/2016       44\n",
      "28/01/2016      3\n",
      "Name: count, dtype: int64\n",
      "\n",
      "Distribusi nilai untuk CouncilArea:\n",
      "CouncilArea\n",
      "Boroondara           1664\n",
      "Moreland             1404\n",
      "Moonee Valley        1131\n",
      "Stonnington          1130\n",
      "Darebin              1094\n",
      "Glen Eira            1012\n",
      "Port Phillip          847\n",
      "Yarra                 839\n",
      "Maribyrnong           828\n",
      "Banyule               736\n",
      "Bayside               666\n",
      "Melbourne             581\n",
      "Hobsons Bay           495\n",
      "Brimbank              472\n",
      "Monash                439\n",
      "Whitehorse            417\n",
      "Manningham            370\n",
      "Kingston              219\n",
      "Hume                  173\n",
      "Whittlesea            169\n",
      "Maroondah             103\n",
      "Wyndham                98\n",
      "Knox                   88\n",
      "Greater Dandenong      70\n",
      "Melton                 68\n",
      "Frankston              56\n",
      "Casey                  44\n",
      "Nillumbik              36\n",
      "Yarra Ranges           25\n",
      "Macedon Ranges          9\n",
      "Cardinia                8\n",
      "Moorabool               3\n",
      "Mitchell                2\n",
      "Name: count, dtype: int64\n",
      "\n",
      "Distribusi nilai untuk Regionname:\n",
      "Regionname\n",
      "Southern Metropolitan         7615\n",
      "Northern Metropolitan         5508\n",
      "Western Metropolitan          3884\n",
      "Eastern Metropolitan          2018\n",
      "South-Eastern Metropolitan     557\n",
      "Eastern Victoria                73\n",
      "Northern Victoria               42\n",
      "Western Victoria                35\n",
      "Name: count, dtype: int64\n"
     ]
    }
   ],
   "source": [
    "print(\"\\nDistribusi nilai untuk atribut kategorikal df_mel:\")\n",
    "for col in df_mel.select_dtypes(include='object').columns:\n",
    "\tprint(f\"\\nDistribusi nilai untuk {col}:\")\n",
    "\tprint(df_mel[col].value_counts())"
   ]
  },
  {
   "cell_type": "markdown",
   "id": "43663611",
   "metadata": {},
   "source": [
    "#### Jumlah missing value dari setiap atribut"
   ]
  },
  {
   "cell_type": "code",
   "execution_count": 21,
   "id": "8b7258a5",
   "metadata": {},
   "outputs": [
    {
     "name": "stdout",
     "output_type": "stream",
     "text": [
      "\n",
      "Jumlah missing value untuk df_mel:\n",
      "Suburb               0\n",
      "Address              0\n",
      "Rooms                0\n",
      "Type                 0\n",
      "Price             4344\n",
      "Method               0\n",
      "SellerG              0\n",
      "Date                 0\n",
      "Distance             8\n",
      "Postcode             8\n",
      "Bedroom2          4413\n",
      "Bathroom          4413\n",
      "Car               4413\n",
      "Landsize          4796\n",
      "BuildingArea     11123\n",
      "YearBuilt        10389\n",
      "CouncilArea       4444\n",
      "Lattitude         4292\n",
      "Longtitude        4292\n",
      "Regionname           8\n",
      "Propertycount        8\n",
      "dtype: int64\n"
     ]
    }
   ],
   "source": [
    "print(\"\\nJumlah missing value untuk df_mel:\")\n",
    "print(df_mel.isnull().sum())"
   ]
  },
  {
   "cell_type": "markdown",
   "id": "2039f16b",
   "metadata": {},
   "source": [
    "## Handling Missing Value\n",
    "\n",
    "Kita ambil satu contoh dataset yaitu `adult_income.csv` untuk melakukan penanganan missing value pada tipe atribut kategorikal. Kita akan menggunakan metode `ffill()` untuk mengisi missing value dengan nilai pada baris di atas baris yang memiliki missing value."
   ]
  },
  {
   "cell_type": "code",
   "execution_count": 23,
   "id": "9805eaaf",
   "metadata": {},
   "outputs": [
    {
     "name": "stderr",
     "output_type": "stream",
     "text": [
      "C:\\Users\\rudyh\\AppData\\Local\\Temp\\ipykernel_18364\\978244587.py:1: FutureWarning: DataFrame.fillna with 'method' is deprecated and will raise in a future version. Use obj.ffill() or obj.bfill() instead.\n",
      "  df_adult_filled = df_adult[['workclass', 'occupation', 'native-country']].fillna(method='ffill')\n"
     ]
    },
    {
     "data": {
      "text/plain": [
       "workclass         0\n",
       "occupation        0\n",
       "native-country    0\n",
       "dtype: int64"
      ]
     },
     "execution_count": 23,
     "metadata": {},
     "output_type": "execute_result"
    }
   ],
   "source": [
    "df_adult_filled = df_adult[['workclass', 'occupation', 'native-country']].fillna(method='ffill')\n",
    "df_adult_filled.isna().sum()"
   ]
  },
  {
   "cell_type": "markdown",
   "id": "1cc99a69",
   "metadata": {},
   "source": [
    "Sekarang kita hitung distribusi nilai untuk atribut `workclass`, `occupation`, dan `native-country` pada dataset `adult_income.csv`. Kita juga akan menggunakan seaborn untuk memvisualisasikan distribusi nilai untuk atribut `workclass`, `occupation`, dan `occupation`. Kita akan menggunakan fungsi `countplot()` dari seaborn untuk menghitung distribusi nilai pada atribut tersebut. Kita juga akan menggunakan fungsi `set_xticklabels()` untuk mengatur label sumbu x agar lebih mudah dibaca."
   ]
  },
  {
   "cell_type": "code",
   "execution_count": 24,
   "id": "dcbf01ad",
   "metadata": {},
   "outputs": [
    {
     "data": {
      "image/png": "[encoded data removed]",
      "text/plain": [
       "<Figure size 1000x600 with 1 Axes>"
      ]
     },
     "metadata": {},
     "output_type": "display_data"
    }
   ],
   "source": [
    "# Plot dengan seaborn menggunakan countplot sertakan data label pada plot\n",
    "sns.set(style=\"whitegrid\")\n",
    "import matplotlib.pyplot as plt\n",
    "\n",
    "plt.figure(figsize=(10, 6))\n",
    "plt.title('Distribusi Workclass pada df_adult_filled')\n",
    "ax = sns.countplot(y=df_adult_filled['workclass'])\n",
    "\n",
    "# Menambahkan data label pada ujung chart\n",
    "for container in ax.containers:\n",
    "\tax.bar_label(container)\n",
    "\n",
    "plt.show()"
   ]
  },
  {
   "cell_type": "code",
   "execution_count": 25,
   "id": "ebe0107d",
   "metadata": {},
   "outputs": [
    {
     "data": {
      "image/png": "[encoded data removed]",
      "text/plain": [
       "<Figure size 1000x600 with 1 Axes>"
      ]
     },
     "metadata": {},
     "output_type": "display_data"
    }
   ],
   "source": [
    "# Plot data adult_income['workclass'] sebelum diisi\n",
    "plt.figure(figsize=(10, 6))\n",
    "plt.title('Distribusi Workclass pada df_adult sebelum Handling Missing Value')\n",
    "ax = sns.countplot(y=df_adult['workclass'])\n",
    "\n",
    "# Menambahkan data label pada ujung chart\n",
    "for container in ax.containers:\n",
    "\tax.bar_label(container)\n",
    "plt.show()"
   ]
  },
  {
   "cell_type": "markdown",
   "id": "65db3674",
   "metadata": {},
   "source": [
    "Sekarang kita akan menghandle missing value pada tipe atribut numerikal. Pada tipe data seperti ini, kita harus mempertimbangkan dengan matang metode yang akan kita gunakan. Oleh karena itu, kita perlu mereview lagi karakteristik data yang dimiliki. Pada kasus ini, kita ambil contoh atribut `Price` pada dataset `melbourne_housing_extra_data.csv`. Biasanya, hal yang cepat dilakukan adalah dengan membuat visualisasi histogram untuk melihat distribusi data. Kita akan menggunakan fungsi `hist()` untuk membuat histogram dan fungsi `boxplot()` untuk membuat boxplot untuk melihat outlier yang ada pada data."
   ]
  },
  {
   "cell_type": "code",
   "execution_count": 26,
   "id": "6283eac4",
   "metadata": {},
   "outputs": [
    {
     "data": {
      "image/png": "[encoded data removed]",
      "text/plain": [
       "<Figure size 1000x600 with 1 Axes>"
      ]
     },
     "metadata": {},
     "output_type": "display_data"
    }
   ],
   "source": [
    "plt.figure(figsize=(10, 6))\n",
    "plt.title('Histogram of Price')\n",
    "\n",
    "# Plot histogram\n",
    "sns.histplot(df_mel['Price'], kde=True, bins=30)\n",
    "\n",
    "# Tambahkan garis mean and median\n",
    "mean_price = df_mel['Price'].mean()\n",
    "median_price = df_mel['Price'].median()\n",
    "plt.axvline(mean_price, color='red', linestyle='--', label=f'Mean: {mean_price:.2f}')\n",
    "plt.axvline(median_price, color='blue', linestyle='-', label=f'Median: {median_price:.2f}')\n",
    "\n",
    "# Tambahkan labels and legend\n",
    "plt.xlabel('Price')\n",
    "plt.ylabel('Frequency')\n",
    "plt.legend()\n",
    "plt.show()"
   ]
  },
  {
   "cell_type": "code",
   "execution_count": 27,
   "id": "6f52b2d7",
   "metadata": {},
   "outputs": [
    {
     "data": {
      "image/png": "[encoded data removed]",
      "text/plain": [
       "<Figure size 1000x600 with 1 Axes>"
      ]
     },
     "metadata": {},
     "output_type": "display_data"
    }
   ],
   "source": [
    "plt.figure(figsize=(10, 6))\n",
    "plt.title('Boxplot of Price')\n",
    "\n",
    "# Plot boxplot\n",
    "sns.boxplot(x=df_mel['Price'])\n",
    "\n",
    "# Tambahkan label\n",
    "plt.xlabel('Price')\n",
    "plt.show()"
   ]
  },
  {
   "cell_type": "markdown",
   "id": "8a331faf",
   "metadata": {},
   "source": [
    "Note:\n",
    "- Tutorial cara memahami boxplot https://datatab.net/tutorial/box-plot"
   ]
  },
  {
   "cell_type": "markdown",
   "id": "50c9e455",
   "metadata": {},
   "source": [
    "Sekarang kita akan mengisi missing value pada atribut `Price` dengan menggunakan metode `median()`. Kita akan menggunakan fungsi `fillna()` untuk mengisi missing value pada atribut tersebut. "
   ]
  },
  {
   "cell_type": "code",
   "execution_count": 28,
   "id": "6dc39a01",
   "metadata": {},
   "outputs": [
    {
     "data": {
      "image/png": "[encoded data removed]",
      "text/plain": [
       "<Figure size 1000x600 with 1 Axes>"
      ]
     },
     "metadata": {},
     "output_type": "display_data"
    }
   ],
   "source": [
    "# Isi missing value pada kolom 'Price' dengan median\n",
    "df_mel['Price'] = df_mel['Price'].fillna(median_price)\n",
    "\n",
    "# Plot histogram setelah mengisi missing value\n",
    "plt.figure(figsize=(10, 6))\n",
    "plt.title('Histogram of Price (After Filling Missing Values)')\n",
    "\n",
    "sns.histplot(df_mel['Price'], kde=True, bins=30)\n",
    "\n",
    "plt.axvline(mean_price, color='red', linestyle='--', label=f'Mean: {mean_price:.2f}')\n",
    "plt.axvline(median_price, color='blue', linestyle='-', label=f'Median: {median_price:.2f}')\n",
    "\n",
    "plt.xlabel('Price')\n",
    "plt.ylabel('Frequency')\n",
    "plt.legend()\n",
    "plt.show()"
   ]
  },
  {
   "cell_type": "markdown",
   "id": "f8f51065",
   "metadata": {},
   "source": [
    "## Outlier Analysis\n",
    "\n",
    "Outlier adalah nilai yang jauh dari nilai lainnya dalam dataset. Outlier dapat mempengaruhi hasil analisis data dan model machine learning. Oleh karena itu, kita perlu melakukan analisis outlier untuk mengidentifikasi dan menangani outlier dalam dataset."
   ]
  },
  {
   "cell_type": "markdown",
   "id": "09c7fa36",
   "metadata": {},
   "source": [
    "#### 1. Teknik Statistika"
   ]
  },
  {
   "cell_type": "markdown",
   "id": "52cb4b80",
   "metadata": {},
   "source": [
    "**a. Interquartile Range (IQR)**\n",
    "\n",
    "IQR adalah metode statistik yang sering digunakan untuk mendeteksi outlier. Nilai yang berada di luar rentang `[Q1 - 1.5 * IQR, Q3 + 1.5 * IQR]` dianggap sebagai outlier."
   ]
  },
  {
   "cell_type": "code",
   "execution_count": 29,
   "id": "9682373a",
   "metadata": {},
   "outputs": [
    {
     "name": "stdout",
     "output_type": "stream",
     "text": [
      "Jumlah outlier: 1426\n"
     ]
    }
   ],
   "source": [
    "# Menghitung IQR\n",
    "Q1 = df_mel['Price'].quantile(0.25)\n",
    "Q3 = df_mel['Price'].quantile(0.75)\n",
    "IQR = Q3 - Q1\n",
    "\n",
    "# Menentukan batas bawah dan atas\n",
    "lower_bound = Q1 - 1.5 * IQR\n",
    "upper_bound = Q3 + 1.5 * IQR\n",
    "\n",
    "# Identifikasi outlier\n",
    "outliers = df_mel[(df_mel['Price'] < lower_bound) | (df_mel['Price'] > upper_bound)]\n",
    "print(f\"Jumlah outlier: {len(outliers)}\")"
   ]
  },
  {
   "cell_type": "markdown",
   "id": "2c0638c8",
   "metadata": {},
   "source": [
    "**b. Z-Score**\n",
    "\n",
    "Z-score mengukur seberapa jauh nilai dari rata-rata dalam satuan standar deviasi. Nilai dengan z-score lebih besar dari ambang batas (biasanya 3 atau -3) dianggap sebagai outlier."
   ]
  },
  {
   "cell_type": "code",
   "execution_count": 31,
   "id": "cb8242bc",
   "metadata": {},
   "outputs": [
    {
     "name": "stdout",
     "output_type": "stream",
     "text": [
      "Jumlah outlier: 396\n"
     ]
    }
   ],
   "source": [
    "from scipy.stats import zscore\n",
    "\n",
    "# Hitung z-score\n",
    "df_mel['z_score'] = zscore(df_mel['Price'])\n",
    "\n",
    "# Identifikasi outlier\n",
    "outliers = df_mel[(df_mel['z_score'] > 3) | (df_mel['z_score'] < -3)]\n",
    "print(f\"Jumlah outlier: {len(outliers)}\")"
   ]
  },
  {
   "cell_type": "markdown",
   "id": "08809e6e",
   "metadata": {},
   "source": [
    "#### 2. Teknik Berbasis Distance"
   ]
  },
  {
   "cell_type": "markdown",
   "id": "b60ee88e",
   "metadata": {},
   "source": [
    "**a. Mahalanobis Distance**\n",
    "\n",
    "Mahalanobis distance mengukur jarak antara titik data dan pusat distribusi, dengan mempertimbangkan korelasi antar variabel. Nilai yang jauh dari pusat distribusi dianggap sebagai outlier."
   ]
  },
  {
   "cell_type": "code",
   "execution_count": 33,
   "id": "474f4aee",
   "metadata": {},
   "outputs": [
    {
     "name": "stdout",
     "output_type": "stream",
     "text": [
      "Jumlah outlier: 396\n"
     ]
    }
   ],
   "source": [
    "import numpy as np\n",
    "from scipy.spatial.distance import mahalanobis\n",
    "\n",
    "# Hitung mean dan covariance matrix\n",
    "mean = df_mel[['Price']].mean().values\n",
    "cov_matrix = np.cov(df_mel[['Price']].values, rowvar=False)\n",
    "\n",
    "# Inverse covariance matrix\n",
    "inv_cov_matrix = np.linalg.inv(cov_matrix.reshape(1, 1))\n",
    "\n",
    "# Hitung Mahalanobis distance\n",
    "df_mel['mahalanobis'] = df_mel[['Price']].apply(\n",
    "    lambda x: mahalanobis(x, mean, inv_cov_matrix), axis=1\n",
    ")\n",
    "\n",
    "# Identifikasi outlier (threshold dapat disesuaikan)\n",
    "threshold = 3\n",
    "outliers = df_mel[df_mel['mahalanobis'] > threshold]\n",
    "print(f\"Jumlah outlier: {len(outliers)}\")"
   ]
  },
  {
   "cell_type": "markdown",
   "id": "c22fbc40",
   "metadata": {},
   "source": [
    "**b. Euclidean Distance**\n",
    "\n",
    "Euclidean distance adalah jarak antara dua titik dalam ruang Euclidean. Nilai yang jauh dari titik pusat dianggap sebagai outlier."
   ]
  },
  {
   "cell_type": "code",
   "execution_count": 34,
   "id": "00fd5617",
   "metadata": {},
   "outputs": [
    {
     "name": "stdout",
     "output_type": "stream",
     "text": [
      "Jumlah outlier berdasarkan Euclidean distance: 711\n"
     ]
    }
   ],
   "source": [
    "# Hitung Euclidean distance dari mean\n",
    "df_mel['euclidean_distance'] = np.sqrt((df_mel['Price'] - mean_price) ** 2)\n",
    "\n",
    "# Identifikasi outlier berdasarkan threshold\n",
    "euclidean_threshold = 3 * df_mel['euclidean_distance'].std()  # Ambang batas 3 standar deviasi\n",
    "outliers_euclidean = df_mel[df_mel['euclidean_distance'] > euclidean_threshold]\n",
    "\n",
    "# Cetak jumlah outlier\n",
    "print(f\"Jumlah outlier berdasarkan Euclidean distance: {len(outliers_euclidean)}\")"
   ]
  },
  {
   "cell_type": "markdown",
   "id": "46262416",
   "metadata": {},
   "source": [
    "#### 3. Teknik Berbasis Model"
   ]
  },
  {
   "cell_type": "markdown",
   "id": "caf528c6",
   "metadata": {},
   "source": [
    "**a. KNN (K-Nearest Neighbors)**\n",
    "\n",
    "KNN dapat digunakan untuk mendeteksi outlier dengan menghitung jarak antara titik data dan tetangga terdekatnya. Titik data yang memiliki jarak jauh dari tetangga terdekat dianggap sebagai outlier."
   ]
  },
  {
   "cell_type": "code",
   "execution_count": 36,
   "id": "10c0f1a2",
   "metadata": {},
   "outputs": [
    {
     "name": "stdout",
     "output_type": "stream",
     "text": [
      "Jumlah outlier: 986\n"
     ]
    }
   ],
   "source": [
    "from sklearn.neighbors import NearestNeighbors\n",
    "\n",
    "# Menggunakan KNN untuk menghitung jarak\n",
    "knn = NearestNeighbors(n_neighbors=5)\n",
    "knn.fit(df_mel[['Price']])\n",
    "\n",
    "distances, _ = knn.kneighbors(df_mel[['Price']])\n",
    "df_mel['knn_distance'] = distances.mean(axis=1)\n",
    "\n",
    "# Identifikasi outlier berdasarkan threshold\n",
    "threshold = df_mel['knn_distance'].quantile(0.95)\n",
    "outliers = df_mel[df_mel['knn_distance'] > threshold]\n",
    "print(f\"Jumlah outlier: {len(outliers)}\")"
   ]
  },
  {
   "cell_type": "markdown",
   "id": "30a7cbf0",
   "metadata": {},
   "source": [
    "#### 4. Penanganan Outlier\n",
    "\n",
    "Setelah mengidentifikasi outlier, kita perlu memutuskan bagaimana cara menangani outlier tersebut. Beberapa metode yang umum digunakan untuk menangani outlier adalah:\n",
    "- Menghapus outlier dari dataset\n",
    "- Mengganti outlier dengan nilai yang lebih representatif (misalnya, median atau mean)\n",
    "- Menggunakan transformasi data (misalnya, log transformasi) untuk mengurangi dampak outlier\n",
    "- Menggunakan model yang lebih robust terhadap outlier (misalnya, model berbasis tree seperti Random Forest atau Gradient Boosting)\n",
    "- Menggunakan teknik ensemble untuk mengurangi dampak outlier"
   ]
  },
  {
   "cell_type": "markdown",
   "id": "7d4c6102",
   "metadata": {},
   "source": []
  }
 ],
 "metadata": {
  "kernelspec": {
   "display_name": "data_analysis",
   "language": "python",
   "name": "python3"
  },
  "language_info": {
   "codemirror_mode": {
    "name": "ipython",
    "version": 3
   },
   "file_extension": ".py",
   "mimetype": "text/x-python",
   "name": "python",
   "nbconvert_exporter": "python",
   "pygments_lexer": "ipython3",
   "version": "3.12.7"
  }
 },
 "nbformat": 4,
 "nbformat_minor": 5
}
